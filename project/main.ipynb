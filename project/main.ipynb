{
 "cells": [
  {
   "cell_type": "code",
   "execution_count": 277,
   "metadata": {},
   "outputs": [],
   "source": [
    "import pandas as pd\n",
    "import numpy as np\n",
    "import matplotlib.pyplot as plt\n",
    "import seaborn as sns\n",
    "import functions_sandbox as sand"
   ]
  },
  {
   "cell_type": "code",
   "execution_count": 278,
   "metadata": {},
   "outputs": [],
   "source": [
    "path = r\"D:\\IT_projects\\Turing_Colledge\\Modul3\\Sprint1\\project\\travel_insurance.csv\"\n",
    "\n",
    "travelin = pd.read_csv(path)"
   ]
  },
  {
   "cell_type": "code",
   "execution_count": 279,
   "metadata": {},
   "outputs": [
    {
     "data": {
      "text/html": [
       "<div>\n",
       "<style scoped>\n",
       "    .dataframe tbody tr th:only-of-type {\n",
       "        vertical-align: middle;\n",
       "    }\n",
       "\n",
       "    .dataframe tbody tr th {\n",
       "        vertical-align: top;\n",
       "    }\n",
       "\n",
       "    .dataframe thead th {\n",
       "        text-align: right;\n",
       "    }\n",
       "</style>\n",
       "<table border=\"1\" class=\"dataframe\">\n",
       "  <thead>\n",
       "    <tr style=\"text-align: right;\">\n",
       "      <th></th>\n",
       "      <th>Unnamed: 0</th>\n",
       "      <th>Age</th>\n",
       "      <th>Employment Type</th>\n",
       "      <th>GraduateOrNot</th>\n",
       "      <th>AnnualIncome</th>\n",
       "      <th>FamilyMembers</th>\n",
       "      <th>ChronicDiseases</th>\n",
       "      <th>FrequentFlyer</th>\n",
       "      <th>EverTravelledAbroad</th>\n",
       "      <th>TravelInsurance</th>\n",
       "    </tr>\n",
       "  </thead>\n",
       "  <tbody>\n",
       "    <tr>\n",
       "      <th>0</th>\n",
       "      <td>0</td>\n",
       "      <td>31</td>\n",
       "      <td>Government Sector</td>\n",
       "      <td>Yes</td>\n",
       "      <td>400000</td>\n",
       "      <td>6</td>\n",
       "      <td>1</td>\n",
       "      <td>No</td>\n",
       "      <td>No</td>\n",
       "      <td>0</td>\n",
       "    </tr>\n",
       "    <tr>\n",
       "      <th>1</th>\n",
       "      <td>1</td>\n",
       "      <td>31</td>\n",
       "      <td>Private Sector/Self Employed</td>\n",
       "      <td>Yes</td>\n",
       "      <td>1250000</td>\n",
       "      <td>7</td>\n",
       "      <td>0</td>\n",
       "      <td>No</td>\n",
       "      <td>No</td>\n",
       "      <td>0</td>\n",
       "    </tr>\n",
       "    <tr>\n",
       "      <th>2</th>\n",
       "      <td>2</td>\n",
       "      <td>34</td>\n",
       "      <td>Private Sector/Self Employed</td>\n",
       "      <td>Yes</td>\n",
       "      <td>500000</td>\n",
       "      <td>4</td>\n",
       "      <td>1</td>\n",
       "      <td>No</td>\n",
       "      <td>No</td>\n",
       "      <td>1</td>\n",
       "    </tr>\n",
       "  </tbody>\n",
       "</table>\n",
       "</div>"
      ],
      "text/plain": [
       "   Unnamed: 0  Age               Employment Type GraduateOrNot  AnnualIncome  \\\n",
       "0           0   31             Government Sector           Yes        400000   \n",
       "1           1   31  Private Sector/Self Employed           Yes       1250000   \n",
       "2           2   34  Private Sector/Self Employed           Yes        500000   \n",
       "\n",
       "   FamilyMembers  ChronicDiseases FrequentFlyer EverTravelledAbroad  \\\n",
       "0              6                1            No                  No   \n",
       "1              7                0            No                  No   \n",
       "2              4                1            No                  No   \n",
       "\n",
       "   TravelInsurance  \n",
       "0                0  \n",
       "1                0  \n",
       "2                1  "
      ]
     },
     "execution_count": 279,
     "metadata": {},
     "output_type": "execute_result"
    }
   ],
   "source": [
    "travelin.head(3)"
   ]
  },
  {
   "cell_type": "code",
   "execution_count": 280,
   "metadata": {},
   "outputs": [],
   "source": [
    "travelin = travelin.drop(columns=travelin.columns[0])"
   ]
  },
  {
   "cell_type": "code",
   "execution_count": 281,
   "metadata": {},
   "outputs": [
    {
     "name": "stdout",
     "output_type": "stream",
     "text": [
      "All columns empty spaces have been stripped.\n",
      "All columns names have been converted to lowercase.\n",
      "\n",
      "Is there any duplicates?: True\n",
      "Is there any NaN numbers?: False\n",
      "Is there any empty cells?: False\n"
     ]
    }
   ],
   "source": [
    "travelin = sand.cleaner(travelin)\n",
    "travelin = travelin.rename(columns={\"employment type\":\"employment_type\"})"
   ]
  },
  {
   "cell_type": "code",
   "execution_count": 282,
   "metadata": {},
   "outputs": [
    {
     "name": "stdout",
     "output_type": "stream",
     "text": [
      "<class 'pandas.core.frame.DataFrame'>\n",
      "RangeIndex: 1987 entries, 0 to 1986\n",
      "Data columns (total 9 columns):\n",
      " #   Column               Non-Null Count  Dtype \n",
      "---  ------               --------------  ----- \n",
      " 0   age                  1987 non-null   int64 \n",
      " 1   employment_type      1987 non-null   object\n",
      " 2   graduateornot        1987 non-null   object\n",
      " 3   annualincome         1987 non-null   int64 \n",
      " 4   familymembers        1987 non-null   int64 \n",
      " 5   chronicdiseases      1987 non-null   int64 \n",
      " 6   frequentflyer        1987 non-null   object\n",
      " 7   evertravelledabroad  1987 non-null   object\n",
      " 8   travelinsurance      1987 non-null   int64 \n",
      "dtypes: int64(5), object(4)\n",
      "memory usage: 139.8+ KB\n"
     ]
    }
   ],
   "source": [
    "travelin.info()"
   ]
  },
  {
   "cell_type": "markdown",
   "metadata": {},
   "source": [
    "- Employment type: could be changed to 0 and 1 (private=0, gov=1)  \n",
    "- Graduate or Not: could be changed to 0 and 1 (no=0, yes=1) \n",
    "- Frequent flier: could be changed to 0 and 1 (no=0, yes=1)  \n",
    "- Ever travelled abroad: could be changed to 0 and 1 (no=0, yes=1)"
   ]
  },
  {
   "cell_type": "code",
   "execution_count": 283,
   "metadata": {},
   "outputs": [
    {
     "name": "stdout",
     "output_type": "stream",
     "text": [
      "age: [31 34 28 25 33 26 32 29 35 30 27]\n",
      "employment_type: ['Government Sector' 'Private Sector/Self Employed']\n",
      "graduateornot: ['Yes' 'No']\n",
      "annualincome: [ 400000 1250000  500000  700000 1150000 1300000 1350000 1450000  800000\n",
      " 1400000  850000 1500000 1050000  350000 1100000  600000  900000  550000\n",
      "  300000  750000 1200000 1000000  950000 1700000 1750000  650000  450000\n",
      " 1650000 1800000 1550000]\n",
      "familymembers: [6 7 4 3 8 9 5 2]\n",
      "chronicdiseases: [1 0]\n",
      "frequentflyer: ['No' 'Yes']\n",
      "evertravelledabroad: ['No' 'Yes']\n",
      "travelinsurance: [0 1]\n"
     ]
    }
   ],
   "source": [
    "columns = len(travelin.columns)\n",
    "\n",
    "for col in range(columns):\n",
    "    print(f\"{travelin.columns[col]}: {travelin.iloc[:,col].unique()}\")"
   ]
  },
  {
   "cell_type": "markdown",
   "metadata": {},
   "source": [
    "Depending on a given rezult, values of several features will be  \n",
    "transferred to 0's/1's bias type. Additionally, annual income will be  \n",
    "changed to millions in order to shorten numbers lenght."
   ]
  },
  {
   "cell_type": "code",
   "execution_count": 284,
   "metadata": {},
   "outputs": [],
   "source": [
    "travelin = travelin.copy()\n",
    "travelin[\"graduateornot\"] = travelin[\"graduateornot\"].apply(\n",
    "    lambda x: 0 if x == \"No\" else 1\n",
    ")\n",
    "travelin[\"frequentflyer\"] = travelin[\"frequentflyer\"].apply(\n",
    "    lambda x: 0 if x == \"No\" else 1\n",
    ")\n",
    "travelin[\"evertravelledabroad\"] = travelin[\"evertravelledabroad\"].apply(\n",
    "    lambda x: 0 if x == \"No\" else 1\n",
    ")\n",
    "travelin[\"employment_type\"] = travelin[\"employment_type\"].apply(\n",
    "    lambda x: 0 if x == \"Private Sector/Self Employed\" else 1\n",
    ")\n",
    "travelin[\"annualincome\"] = travelin[\"annualincome\"].apply(\n",
    "    lambda x: x / 1000000\n",
    ")"
   ]
  },
  {
   "cell_type": "code",
   "execution_count": 285,
   "metadata": {},
   "outputs": [
    {
     "data": {
      "text/html": [
       "<div>\n",
       "<style scoped>\n",
       "    .dataframe tbody tr th:only-of-type {\n",
       "        vertical-align: middle;\n",
       "    }\n",
       "\n",
       "    .dataframe tbody tr th {\n",
       "        vertical-align: top;\n",
       "    }\n",
       "\n",
       "    .dataframe thead th {\n",
       "        text-align: right;\n",
       "    }\n",
       "</style>\n",
       "<table border=\"1\" class=\"dataframe\">\n",
       "  <thead>\n",
       "    <tr style=\"text-align: right;\">\n",
       "      <th></th>\n",
       "      <th>count</th>\n",
       "      <th>mean</th>\n",
       "      <th>std</th>\n",
       "      <th>min</th>\n",
       "      <th>25%</th>\n",
       "      <th>50%</th>\n",
       "      <th>75%</th>\n",
       "      <th>max</th>\n",
       "    </tr>\n",
       "  </thead>\n",
       "  <tbody>\n",
       "    <tr>\n",
       "      <th>age</th>\n",
       "      <td>1987.0</td>\n",
       "      <td>29.650226</td>\n",
       "      <td>2.913308</td>\n",
       "      <td>25.0</td>\n",
       "      <td>28.0</td>\n",
       "      <td>29.0</td>\n",
       "      <td>32.00</td>\n",
       "      <td>35.0</td>\n",
       "    </tr>\n",
       "    <tr>\n",
       "      <th>employment_type</th>\n",
       "      <td>1987.0</td>\n",
       "      <td>0.286865</td>\n",
       "      <td>0.452412</td>\n",
       "      <td>0.0</td>\n",
       "      <td>0.0</td>\n",
       "      <td>0.0</td>\n",
       "      <td>1.00</td>\n",
       "      <td>1.0</td>\n",
       "    </tr>\n",
       "    <tr>\n",
       "      <th>graduateornot</th>\n",
       "      <td>1987.0</td>\n",
       "      <td>0.851535</td>\n",
       "      <td>0.355650</td>\n",
       "      <td>0.0</td>\n",
       "      <td>1.0</td>\n",
       "      <td>1.0</td>\n",
       "      <td>1.00</td>\n",
       "      <td>1.0</td>\n",
       "    </tr>\n",
       "    <tr>\n",
       "      <th>annualincome</th>\n",
       "      <td>1987.0</td>\n",
       "      <td>0.932763</td>\n",
       "      <td>0.376856</td>\n",
       "      <td>0.3</td>\n",
       "      <td>0.6</td>\n",
       "      <td>0.9</td>\n",
       "      <td>1.25</td>\n",
       "      <td>1.8</td>\n",
       "    </tr>\n",
       "    <tr>\n",
       "      <th>familymembers</th>\n",
       "      <td>1987.0</td>\n",
       "      <td>4.752894</td>\n",
       "      <td>1.609650</td>\n",
       "      <td>2.0</td>\n",
       "      <td>4.0</td>\n",
       "      <td>5.0</td>\n",
       "      <td>6.00</td>\n",
       "      <td>9.0</td>\n",
       "    </tr>\n",
       "    <tr>\n",
       "      <th>chronicdiseases</th>\n",
       "      <td>1987.0</td>\n",
       "      <td>0.277806</td>\n",
       "      <td>0.448030</td>\n",
       "      <td>0.0</td>\n",
       "      <td>0.0</td>\n",
       "      <td>0.0</td>\n",
       "      <td>1.00</td>\n",
       "      <td>1.0</td>\n",
       "    </tr>\n",
       "    <tr>\n",
       "      <th>frequentflyer</th>\n",
       "      <td>1987.0</td>\n",
       "      <td>0.209864</td>\n",
       "      <td>0.407314</td>\n",
       "      <td>0.0</td>\n",
       "      <td>0.0</td>\n",
       "      <td>0.0</td>\n",
       "      <td>0.00</td>\n",
       "      <td>1.0</td>\n",
       "    </tr>\n",
       "    <tr>\n",
       "      <th>evertravelledabroad</th>\n",
       "      <td>1987.0</td>\n",
       "      <td>0.191243</td>\n",
       "      <td>0.393379</td>\n",
       "      <td>0.0</td>\n",
       "      <td>0.0</td>\n",
       "      <td>0.0</td>\n",
       "      <td>0.00</td>\n",
       "      <td>1.0</td>\n",
       "    </tr>\n",
       "    <tr>\n",
       "      <th>travelinsurance</th>\n",
       "      <td>1987.0</td>\n",
       "      <td>0.357323</td>\n",
       "      <td>0.479332</td>\n",
       "      <td>0.0</td>\n",
       "      <td>0.0</td>\n",
       "      <td>0.0</td>\n",
       "      <td>1.00</td>\n",
       "      <td>1.0</td>\n",
       "    </tr>\n",
       "  </tbody>\n",
       "</table>\n",
       "</div>"
      ],
      "text/plain": [
       "                      count       mean       std   min   25%   50%    75%  \\\n",
       "age                  1987.0  29.650226  2.913308  25.0  28.0  29.0  32.00   \n",
       "employment_type      1987.0   0.286865  0.452412   0.0   0.0   0.0   1.00   \n",
       "graduateornot        1987.0   0.851535  0.355650   0.0   1.0   1.0   1.00   \n",
       "annualincome         1987.0   0.932763  0.376856   0.3   0.6   0.9   1.25   \n",
       "familymembers        1987.0   4.752894  1.609650   2.0   4.0   5.0   6.00   \n",
       "chronicdiseases      1987.0   0.277806  0.448030   0.0   0.0   0.0   1.00   \n",
       "frequentflyer        1987.0   0.209864  0.407314   0.0   0.0   0.0   0.00   \n",
       "evertravelledabroad  1987.0   0.191243  0.393379   0.0   0.0   0.0   0.00   \n",
       "travelinsurance      1987.0   0.357323  0.479332   0.0   0.0   0.0   1.00   \n",
       "\n",
       "                      max  \n",
       "age                  35.0  \n",
       "employment_type       1.0  \n",
       "graduateornot         1.0  \n",
       "annualincome          1.8  \n",
       "familymembers         9.0  \n",
       "chronicdiseases       1.0  \n",
       "frequentflyer         1.0  \n",
       "evertravelledabroad   1.0  \n",
       "travelinsurance       1.0  "
      ]
     },
     "execution_count": 285,
     "metadata": {},
     "output_type": "execute_result"
    }
   ],
   "source": [
    "travelin.describe().T"
   ]
  },
  {
   "cell_type": "markdown",
   "metadata": {},
   "source": [
    "We have customers between 25 and 35 years. Most of the customers are graduated college  \n",
    "and average anual income is about 932k rupees. Customer's family consists of min 2  \n",
    "family members to max 9."
   ]
  },
  {
   "cell_type": "markdown",
   "metadata": {},
   "source": [
    "Now we have two types of data:  \n",
    "- continuous: age, annualincome  \n",
    "- categorical: where employment type, graduate/not, chronic diseases,  \n",
    "frequentflyer, ever travelled abroad, travelinsurance are discrete binary  \n",
    "and family members standard discrete.  \n",
    "With this info we can make two dataframes for both types."
   ]
  },
  {
   "cell_type": "code",
   "execution_count": null,
   "metadata": {},
   "outputs": [],
   "source": [
    "travel_cont = travelin[[\"age\", \"annualincome\", \"travelinsurance\"]]\n",
    "travel_cate = travelin[\n",
    "    [\n",
    "        \"employment_type\",\n",
    "        \"graduateornot\",\n",
    "        \"familymembers\",\n",
    "        \"chronicdiseases\",\n",
    "        \"frequentflyer\",\n",
    "        \"evertravelledabroad\",\n",
    "        \"travelinsurance\",\n",
    "    ]\n",
    "]"
   ]
  },
  {
   "cell_type": "code",
   "execution_count": 331,
   "metadata": {},
   "outputs": [
    {
     "data": {
      "image/png": "[encoded data removed]",
      "text/plain": [
       "<Figure size 619.361x500 with 1 Axes>"
      ]
     },
     "metadata": {},
     "output_type": "display_data"
    }
   ],
   "source": [
    "sns.displot(\n",
    "    travel_cont, x=\"age\", hue=\"travelinsurance\", multiple=\"stack\", discrete=True\n",
    ")\n",
    "plt.show()"
   ]
  },
  {
   "cell_type": "code",
   "execution_count": 334,
   "metadata": {},
   "outputs": [
    {
     "data": {
      "image/png": "[encoded data removed]",
      "text/plain": [
       "<Figure size 619.361x500 with 1 Axes>"
      ]
     },
     "metadata": {},
     "output_type": "display_data"
    }
   ],
   "source": [
    "sns.displot(\n",
    "    travel_cont, x=\"annualincome\", hue=\"travelinsurance\", multiple=\"stack\"\n",
    ")\n",
    "plt.show()"
   ]
  }
 ],
 "metadata": {
  "kernelspec": {
   "display_name": "Python 3",
   "language": "python",
   "name": "python3"
  },
  "language_info": {
   "codemirror_mode": {
    "name": "ipython",
    "version": 3
   },
   "file_extension": ".py",
   "mimetype": "text/x-python",
   "name": "python",
   "nbconvert_exporter": "python",
   "pygments_lexer": "ipython3",
   "version": "3.11.4"
  }
 },
 "nbformat": 4,
 "nbformat_minor": 2
}
