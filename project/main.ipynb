{
 "cells": [
  {
   "cell_type": "code",
   "execution_count": 243,
   "metadata": {},
   "outputs": [],
   "source": [
    "import pandas as pd\n",
    "import numpy as np\n",
    "import matplotlib.pyplot as plt\n",
    "import seaborn as sns\n",
    "import functions_sandbox as sand"
   ]
  },
  {
   "cell_type": "code",
   "execution_count": 244,
   "metadata": {},
   "outputs": [],
   "source": [
    "path = r\"D:\\IT_projects\\Turing_Colledge\\Modul3\\Sprint1\\project\\travel_insurance.csv\"\n",
    "\n",
    "travelin = pd.read_csv(path)"
   ]
  },
  {
   "cell_type": "code",
   "execution_count": 245,
   "metadata": {},
   "outputs": [
    {
     "data": {
      "text/html": [
       "<div>\n",
       "<style scoped>\n",
       "    .dataframe tbody tr th:only-of-type {\n",
       "        vertical-align: middle;\n",
       "    }\n",
       "\n",
       "    .dataframe tbody tr th {\n",
       "        vertical-align: top;\n",
       "    }\n",
       "\n",
       "    .dataframe thead th {\n",
       "        text-align: right;\n",
       "    }\n",
       "</style>\n",
       "<table border=\"1\" class=\"dataframe\">\n",
       "  <thead>\n",
       "    <tr style=\"text-align: right;\">\n",
       "      <th></th>\n",
       "      <th>Unnamed: 0</th>\n",
       "      <th>Age</th>\n",
       "      <th>Employment Type</th>\n",
       "      <th>GraduateOrNot</th>\n",
       "      <th>AnnualIncome</th>\n",
       "      <th>FamilyMembers</th>\n",
       "      <th>ChronicDiseases</th>\n",
       "      <th>FrequentFlyer</th>\n",
       "      <th>EverTravelledAbroad</th>\n",
       "      <th>TravelInsurance</th>\n",
       "    </tr>\n",
       "  </thead>\n",
       "  <tbody>\n",
       "    <tr>\n",
       "      <th>0</th>\n",
       "      <td>0</td>\n",
       "      <td>31</td>\n",
       "      <td>Government Sector</td>\n",
       "      <td>Yes</td>\n",
       "      <td>400000</td>\n",
       "      <td>6</td>\n",
       "      <td>1</td>\n",
       "      <td>No</td>\n",
       "      <td>No</td>\n",
       "      <td>0</td>\n",
       "    </tr>\n",
       "    <tr>\n",
       "      <th>1</th>\n",
       "      <td>1</td>\n",
       "      <td>31</td>\n",
       "      <td>Private Sector/Self Employed</td>\n",
       "      <td>Yes</td>\n",
       "      <td>1250000</td>\n",
       "      <td>7</td>\n",
       "      <td>0</td>\n",
       "      <td>No</td>\n",
       "      <td>No</td>\n",
       "      <td>0</td>\n",
       "    </tr>\n",
       "    <tr>\n",
       "      <th>2</th>\n",
       "      <td>2</td>\n",
       "      <td>34</td>\n",
       "      <td>Private Sector/Self Employed</td>\n",
       "      <td>Yes</td>\n",
       "      <td>500000</td>\n",
       "      <td>4</td>\n",
       "      <td>1</td>\n",
       "      <td>No</td>\n",
       "      <td>No</td>\n",
       "      <td>1</td>\n",
       "    </tr>\n",
       "  </tbody>\n",
       "</table>\n",
       "</div>"
      ],
      "text/plain": [
       "   Unnamed: 0  Age               Employment Type GraduateOrNot  AnnualIncome  \\\n",
       "0           0   31             Government Sector           Yes        400000   \n",
       "1           1   31  Private Sector/Self Employed           Yes       1250000   \n",
       "2           2   34  Private Sector/Self Employed           Yes        500000   \n",
       "\n",
       "   FamilyMembers  ChronicDiseases FrequentFlyer EverTravelledAbroad  \\\n",
       "0              6                1            No                  No   \n",
       "1              7                0            No                  No   \n",
       "2              4                1            No                  No   \n",
       "\n",
       "   TravelInsurance  \n",
       "0                0  \n",
       "1                0  \n",
       "2                1  "
      ]
     },
     "execution_count": 245,
     "metadata": {},
     "output_type": "execute_result"
    }
   ],
   "source": [
    "travelin.head(3)"
   ]
  },
  {
   "cell_type": "code",
   "execution_count": 246,
   "metadata": {},
   "outputs": [],
   "source": [
    "travelin = travelin.drop(columns=travelin.columns[0])"
   ]
  },
  {
   "cell_type": "code",
   "execution_count": 248,
   "metadata": {},
   "outputs": [
    {
     "name": "stdout",
     "output_type": "stream",
     "text": [
      "All columns empty spaces have been stripped.\n",
      "All columns names have been converted to lowercase.\n",
      "\n",
      "Is there any duplicates?: True\n",
      "Is there any NaN numbers?: False\n",
      "Is there any empty cells?: False\n"
     ]
    }
   ],
   "source": [
    "travelin = sand.cleaner(travelin)\n",
    "travelin = travelin.rename(columns={\"employment type\":\"employment_type\"})"
   ]
  },
  {
   "cell_type": "code",
   "execution_count": 249,
   "metadata": {},
   "outputs": [
    {
     "name": "stdout",
     "output_type": "stream",
     "text": [
      "<class 'pandas.core.frame.DataFrame'>\n",
      "RangeIndex: 1987 entries, 0 to 1986\n",
      "Data columns (total 9 columns):\n",
      " #   Column               Non-Null Count  Dtype \n",
      "---  ------               --------------  ----- \n",
      " 0   age                  1987 non-null   int64 \n",
      " 1   employment_type      1987 non-null   object\n",
      " 2   graduateornot        1987 non-null   object\n",
      " 3   annualincome         1987 non-null   int64 \n",
      " 4   familymembers        1987 non-null   int64 \n",
      " 5   chronicdiseases      1987 non-null   int64 \n",
      " 6   frequentflyer        1987 non-null   object\n",
      " 7   evertravelledabroad  1987 non-null   object\n",
      " 8   travelinsurance      1987 non-null   int64 \n",
      "dtypes: int64(5), object(4)\n",
      "memory usage: 139.8+ KB\n"
     ]
    }
   ],
   "source": [
    "travelin.info()"
   ]
  },
  {
   "cell_type": "markdown",
   "metadata": {},
   "source": [
    "- Employment type: could be changed to 0 and 1 (private=0, gov=1)  \n",
    "- Graduate or Not: could be changed to 0 and 1 (no=0, yes=1) \n",
    "- Frequent flier: could be changed to 0 and 1 (no=0, yes=1)  \n",
    "- Ever travelled abroad: could be changed to 0 and 1 (no=0, yes=1)"
   ]
  },
  {
   "cell_type": "code",
   "execution_count": 250,
   "metadata": {},
   "outputs": [
    {
     "name": "stdout",
     "output_type": "stream",
     "text": [
      "age: [31 34 28 25 33 26 32 29 35 30 27]\n",
      "employment_type: ['Government Sector' 'Private Sector/Self Employed']\n",
      "graduateornot: ['Yes' 'No']\n",
      "annualincome: [ 400000 1250000  500000  700000 1150000 1300000 1350000 1450000  800000\n",
      " 1400000  850000 1500000 1050000  350000 1100000  600000  900000  550000\n",
      "  300000  750000 1200000 1000000  950000 1700000 1750000  650000  450000\n",
      " 1650000 1800000 1550000]\n",
      "familymembers: [6 7 4 3 8 9 5 2]\n",
      "chronicdiseases: [1 0]\n",
      "frequentflyer: ['No' 'Yes']\n",
      "evertravelledabroad: ['No' 'Yes']\n",
      "travelinsurance: [0 1]\n"
     ]
    }
   ],
   "source": [
    "columns = len(travelin.columns)\n",
    "\n",
    "for col in range(columns):\n",
    "    print(f\"{travelin.columns[col]}: {travelin.iloc[:,col].unique()}\")"
   ]
  },
  {
   "cell_type": "code",
   "execution_count": 253,
   "metadata": {},
   "outputs": [],
   "source": [
    "travelin = travelin.copy()\n",
    "travelin[\"graduateornot\"] = travelin[\"graduateornot\"].apply(\n",
    "    lambda x: 0 if x == \"No\" else 1\n",
    ")\n",
    "travelin[\"frequentflyer\"] = travelin[\"frequentflyer\"].apply(\n",
    "    lambda x: 0 if x == \"No\" else 1\n",
    ")\n",
    "travelin[\"evertravelledabroad\"] = travelin[\"evertravelledabroad\"].apply(\n",
    "    lambda x: 0 if x == \"No\" else 1\n",
    ")\n",
    "travelin[\"employment_type\"] = travelin[\"employment_type\"].apply(\n",
    "    lambda x: 0 if x == \"Private Sector/Self Employed\" else 1\n",
    ")"
   ]
  },
  {
   "cell_type": "code",
   "execution_count": 255,
   "metadata": {},
   "outputs": [
    {
     "data": {
      "text/plain": [
       "employment_type\n",
       "0    1417\n",
       "1     570\n",
       "Name: count, dtype: int64"
      ]
     },
     "execution_count": 255,
     "metadata": {},
     "output_type": "execute_result"
    }
   ],
   "source": []
  }
 ],
 "metadata": {
  "kernelspec": {
   "display_name": "Python 3",
   "language": "python",
   "name": "python3"
  },
  "language_info": {
   "codemirror_mode": {
    "name": "ipython",
    "version": 3
   },
   "file_extension": ".py",
   "mimetype": "text/x-python",
   "name": "python",
   "nbconvert_exporter": "python",
   "pygments_lexer": "ipython3",
   "version": "3.11.4"
  }
 },
 "nbformat": 4,
 "nbformat_minor": 2
}
